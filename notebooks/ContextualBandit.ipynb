{
 "cells": [
  {
   "cell_type": "markdown",
   "id": "56a61cf2-780d-4208-af84-873b348d1807",
   "metadata": {},
   "source": [
    "# Notes: \n",
    "    \n",
    "Contextual bandit\n",
    "\n",
    "Reward is yards gained + touchdown + first down\n",
    "\n",
    "Arms will be the play types \n",
    "\n",
    "Context will be set of features\n",
    "\n",
    "Will need some sort of randomization component to not exploit plays \n",
    "\n",
    "need to find best play for each context\n",
    "\n",
    "Evaluate against replay\n",
    "\n",
    "Find real time plays that match prediction \n",
    "\n",
    "See how many are successful \n",
    "\n",
    "Success is within sd of yards gained, touchdown, first down"
   ]
  },
  {
   "cell_type": "code",
   "execution_count": 1,
   "id": "e17d8691-828e-4c8f-b785-f1becfc58575",
   "metadata": {},
   "outputs": [],
   "source": [
    "import numpy as np\n",
    "import pandas as pd\n",
    "import random\n",
    "import statsmodels.api as sm\n",
    "from sklearn.linear_model import LinearRegression\n",
    "from sklearn.model_selection import train_test_split\n",
    "from sklearn.preprocessing import OneHotEncoder\n",
    "from sklearn.compose import make_column_transformer\n",
    "from sklearn.metrics import mean_squared_error\n",
    "import matplotlib.pyplot as plt"
   ]
  },
  {
   "cell_type": "markdown",
   "id": "f200cf68-9111-4d5e-9b9f-a403b6d1362c",
   "metadata": {},
   "source": [
    "# Download and prep Data"
   ]
  },
  {
   "cell_type": "code",
   "execution_count": 2,
   "id": "9c0ffbc9-d81a-4cc7-a6ee-18a564e060e4",
   "metadata": {},
   "outputs": [
    {
     "name": "stdout",
     "output_type": "stream",
     "text": [
      "download: s3://capstone-nfl-data/NFL_PBP_Data_2010_2022_original.parquet to ./NFL_PBP_Data_2010_2022_original.parquet\n"
     ]
    }
   ],
   "source": [
    "#download data\n",
    "!aws s3 cp s3://capstone-nfl-data/NFL_PBP_Data_2010_2022_original.parquet NFL_PBP_Data_2010_2022_original.parquet"
   ]
  },
  {
   "cell_type": "code",
   "execution_count": 3,
   "id": "5ec55e4e-d0d5-44f0-8c29-54aa97563a5a",
   "metadata": {},
   "outputs": [
    {
     "name": "stdout",
     "output_type": "stream",
     "text": [
      "(588078, 384)\n"
     ]
    }
   ],
   "source": [
    "#Load Data\n",
    "df = pd.read_parquet('NFL_PBP_Data_2010_2022_original.parquet', engine='pyarrow')\n",
    "df.head()\n",
    "print(df.shape)"
   ]
  },
  {
   "cell_type": "code",
   "execution_count": 4,
   "id": "5333e747-2f2e-41e1-a3b2-9a53499d07ad",
   "metadata": {},
   "outputs": [],
   "source": [
    "df = df[df['play_type'].isin(['pass', 'run', 'punt', 'extra_point', 'field_goal']) ]\n",
    "df = df[~(df['game_half'] == 'Overtime' )]"
   ]
  },
  {
   "cell_type": "code",
   "execution_count": 5,
   "id": "6b2b45f9-6726-4429-b9fa-9f9b0ce0579b",
   "metadata": {},
   "outputs": [],
   "source": [
    "def transform_off_personnel(row):\n",
    "\n",
    "   rb_count = 0\n",
    "   te_count = 0\n",
    "   wr_count = 0\n",
    "   ol_count = 0\n",
    "   dl_count = 0\n",
    "   db_count = 0\n",
    "\n",
    "   if not pd.isna(row['offense_personnel']):\n",
    "       personnel = row['offense_personnel'].split(', ')\n",
    "       for p in personnel:\n",
    "           if p[2:4] == 'RB':\n",
    "               rb_count = int(p[0])\n",
    "           elif p[2:4] == 'TE':\n",
    "                te_count = int(p[0])\n",
    "           elif p[2:4] == 'WR':\n",
    "                wr_count = int(p[0])\n",
    "           elif p[2:4] == 'OL':\n",
    "                ol_count = int(p[0])\n",
    "           elif p[2:4] == 'DL':\n",
    "                dl_count = int(p[0])\n",
    "           elif p[2:4] == 'DB':\n",
    "               db_count = int(p[0])\n",
    "\n",
    "   return pd.Series([rb_count,te_count,wr_count,ol_count,dl_count, db_count])\n",
    "\n",
    "df[['off_rb_count','off_te_count','off_wr_count','off_ol_count','off_dl_count', 'off_db_count']] = df.apply(transform_off_personnel, axis=1)"
   ]
  },
  {
   "cell_type": "code",
   "execution_count": 6,
   "id": "ff5354c8-23f0-4452-9015-b7271b2f23ef",
   "metadata": {},
   "outputs": [],
   "source": [
    "def transform_def_personnel(row):\n",
    "\n",
    "   dl_count = 0\n",
    "   db_count = 0\n",
    "   lb_count = 0\n",
    "   rb_count = 0\n",
    "   wr_count = 0\n",
    "   ol_count = 0\n",
    "   \n",
    "   if not pd.isna(row['defense_personnel']):\n",
    "       personnel = row['defense_personnel'].split(', ')\n",
    "       for p in personnel:\n",
    "           if p[2:4] == 'LB':\n",
    "                lb_count = int(p[0])\n",
    "           elif p[2:4] == 'DL':\n",
    "                dl_count = int(p[0])\n",
    "           elif p[2:4] == 'DB':\n",
    "                db_count = int(p[0])\n",
    "           elif p[2:4] == 'WR':\n",
    "                wr_count = int(p[0])\n",
    "           elif p[2:4] == 'RB':\n",
    "                rb_count = int(p[0])\n",
    "           elif p[2:4] == 'OL':\n",
    "                ol_count = int(p[0])\n",
    "                \n",
    "   return pd.Series([dl_count,db_count,lb_count,rb_count,wr_count,ol_count])\n",
    "\n",
    "df[['def_dl_count','def_db_count','def_lb_count','def_rb_count','def_wr_count','def_ol_count']] = df.apply(transform_def_personnel, axis=1)"
   ]
  },
  {
   "cell_type": "code",
   "execution_count": 7,
   "id": "37306c6c-17d3-4ba7-8e4b-c1812decc9c4",
   "metadata": {},
   "outputs": [],
   "source": [
    "def PlayType_normalized(s):\n",
    "  if s['play_type_nfl'] == 'PASS': \n",
    "    return 'PASS'\n",
    "  elif s['play_type_nfl'] == 'RUSH': \n",
    "    return 'RUSH'\n",
    "  else:\n",
    "    return 'OTHER'\n",
    "df['PlayType_normalized'] = df.apply(PlayType_normalized, axis=1)"
   ]
  },
  {
   "cell_type": "code",
   "execution_count": 8,
   "id": "82bb19c4-630a-4f71-9c70-8c3be4ebc511",
   "metadata": {},
   "outputs": [],
   "source": [
    "df = df[~(df['PlayType_normalized'] == 'OTHER' )]"
   ]
  },
  {
   "cell_type": "code",
   "execution_count": 9,
   "id": "28e5bb18-f444-4e23-93bf-488ca5d8b2ad",
   "metadata": {},
   "outputs": [],
   "source": [
    "bins = [0,10,20,30,40,50,60,70,80,90,100]\n",
    "df['yardline_binned'] = pd.cut(df['yardline_100'], bins)"
   ]
  },
  {
   "cell_type": "markdown",
   "id": "d01a562d-f4de-4fb5-a42d-79d1437d31de",
   "metadata": {},
   "source": [
    "# Light EDA"
   ]
  },
  {
   "cell_type": "code",
   "execution_count": 10,
   "id": "ca797b95-a80a-403d-8319-0b7ed5098b75",
   "metadata": {},
   "outputs": [
    {
     "name": "stdout",
     "output_type": "stream",
     "text": [
      "(392032, 398)\n"
     ]
    }
   ],
   "source": [
    "print(df.shape)"
   ]
  },
  {
   "cell_type": "code",
   "execution_count": 11,
   "id": "a5ad5c3b-ed82-4083-a419-58ad0793ae3d",
   "metadata": {},
   "outputs": [
    {
     "data": {
      "text/plain": [
       "(array([ 90673.,      0.,      0., 105245.,      0.,      0.,  91066.,\n",
       "             0.,      0., 105048.]),\n",
       " array([1.        , 1.29999995, 1.60000002, 1.89999998, 2.20000005,\n",
       "        2.5       , 2.79999995, 3.0999999 , 3.4000001 , 3.70000005,\n",
       "        4.        ]),\n",
       " <BarContainer object of 10 artists>)"
      ]
     },
     "execution_count": 11,
     "metadata": {},
     "output_type": "execute_result"
    },
    {
     "data": {
      "image/png": "[encoded data removed]",
      "text/plain": [
       "<Figure size 640x480 with 1 Axes>"
      ]
     },
     "metadata": {},
     "output_type": "display_data"
    }
   ],
   "source": [
    "plt.hist(df[['qtr']])"
   ]
  },
  {
   "cell_type": "code",
   "execution_count": 12,
   "id": "a310841f-b480-4eee-9fe3-5638b43cec88",
   "metadata": {},
   "outputs": [
    {
     "data": {
      "text/plain": [
       "(array([176069.,      0.,      0., 131372.,      0.,      0.,  78261.,\n",
       "             0.,      0.,   6330.]),\n",
       " array([1.        , 1.29999995, 1.60000002, 1.89999998, 2.20000005,\n",
       "        2.5       , 2.79999995, 3.0999999 , 3.4000001 , 3.70000005,\n",
       "        4.        ]),\n",
       " <BarContainer object of 10 artists>)"
      ]
     },
     "execution_count": 12,
     "metadata": {},
     "output_type": "execute_result"
    },
    {
     "data": {
      "image/png": "[encoded data removed]",
      "text/plain": [
       "<Figure size 640x480 with 1 Axes>"
      ]
     },
     "metadata": {},
     "output_type": "display_data"
    }
   ],
   "source": [
    "plt.hist(df[['down']])"
   ]
  },
  {
   "cell_type": "code",
   "execution_count": 13,
   "id": "14b6974a-0838-4aa7-9d2e-b2609060862a",
   "metadata": {},
   "outputs": [
    {
     "data": {
      "text/plain": [
       "(array([8.57220e+04, 2.65111e+05, 2.55280e+04, 1.22610e+04, 2.55800e+03,\n",
       "        6.76000e+02, 1.45000e+02, 2.10000e+01, 7.00000e+00, 3.00000e+00]),\n",
       " array([ 1.        ,  5.9000001 , 10.80000019, 15.69999981, 20.60000038,\n",
       "        25.5       , 30.39999962, 35.29999924, 40.20000076, 45.09999847,\n",
       "        50.        ]),\n",
       " <BarContainer object of 10 artists>)"
      ]
     },
     "execution_count": 13,
     "metadata": {},
     "output_type": "execute_result"
    },
    {
     "data": {
      "image/png": "[encoded data removed]",
      "text/plain": [
       "<Figure size 640x480 with 1 Axes>"
      ]
     },
     "metadata": {},
     "output_type": "display_data"
    }
   ],
   "source": [
    "plt.hist(df[['ydstogo']])"
   ]
  },
  {
   "cell_type": "code",
   "execution_count": 14,
   "id": "3fa65acc-6d68-46d1-954c-8f444ee722c6",
   "metadata": {},
   "outputs": [
    {
     "name": "stdout",
     "output_type": "stream",
     "text": [
      "[1. 2. 3. 4.]\n",
      "[1. 2. 3. 4.]\n",
      "['long', '10', '5', '1']\n"
     ]
    }
   ],
   "source": [
    "context_qtr = df.qtr.unique()\n",
    "context_down = df.down.unique()\n",
    "context_yds = ['long', '10', '5', '1']\n",
    "plays = ['PASS', 'RUSH'] \n",
    "\n",
    "print(context_qtr)\n",
    "print(context_down)\n",
    "print(context_yds)"
   ]
  },
  {
   "cell_type": "code",
   "execution_count": 15,
   "id": "da371fb3-0e7f-4a25-a7ab-7ec6238cebe9",
   "metadata": {},
   "outputs": [
    {
     "data": {
      "text/plain": [
       "(array([265111.,      0.,      0.,  64463.,      0.,      0.,  41199.,\n",
       "             0.,      0.,  21259.]),\n",
       " array([0. , 0.3, 0.6, 0.9, 1.2, 1.5, 1.8, 2.1, 2.4, 2.7, 3. ]),\n",
       " <BarContainer object of 10 artists>)"
      ]
     },
     "execution_count": 15,
     "metadata": {},
     "output_type": "execute_result"
    },
    {
     "data": {
      "image/png": "[encoded data removed]",
      "text/plain": [
       "<Figure size 640x480 with 1 Axes>"
      ]
     },
     "metadata": {},
     "output_type": "display_data"
    }
   ],
   "source": [
    "def ydstogo_binning(row): \n",
    "    if row.ydstogo > 10: \n",
    "        return 'long'\n",
    "    elif row.ydstogo > 5: \n",
    "        return '10'\n",
    "    elif row.ydstogo > 1: \n",
    "        return '5'\n",
    "    else:\n",
    "        return '1'\n",
    "\n",
    "\n",
    "\n",
    "\n",
    "df['ydstogo_binned'] = df.apply(ydstogo_binning, axis=1)\n",
    "plt.hist(df[['ydstogo_binned']])"
   ]
  },
  {
   "cell_type": "markdown",
   "id": "3b44e552-bc30-44fa-979c-538f7b0778e6",
   "metadata": {},
   "source": [
    "# Create Bandit"
   ]
  },
  {
   "cell_type": "code",
   "execution_count": 34,
   "id": "c2973fcb-8bdf-4657-900b-2a730e5a2bde",
   "metadata": {},
   "outputs": [],
   "source": [
    "class ContextualBandit: \n",
    "    def __init__(self, arms, e): \n",
    "        self.arms = arms\n",
    "        self.e = e\n",
    "        self.n = 0\n",
    "        self.mean_reward = 0\n",
    "        self.context_rewards = {}\n",
    "        self.context_n = {}\n",
    "        self.match_count = 0\n",
    "        self.success_count = 0 \n",
    "        \n",
    "    \n",
    "    def pull(self, context):\n",
    "        '''\n",
    "        Use a row in the dataframe to update average rewards given context\n",
    "        '''\n",
    "        \n",
    "        #Current rewards for context\n",
    "        curr_context_rewards = self.context_rewards[context]\n",
    "        \n",
    "        #decide to use highest reward or try something new\n",
    "        p = np.random.rand()\n",
    "        if p < self.e: \n",
    "            selected_arm_idx = random.randint(0, len(self.arms) - 1)\n",
    "        else: \n",
    "            selected_arm_idx = np.argmax(curr_context_rewards)\n",
    "        \n",
    "        #Get reward for decision\n",
    "        reward = self.get_reward(self.arms[selected_arm_idx], context)\n",
    "\n",
    "        #Update counts\n",
    "        self.n += 1\n",
    "        self.context_n[context][selected_arm_idx] += 1\n",
    "        \n",
    "        #Update average rewards\n",
    "        self.mean_reward = self.mean_reward + (reward - self.mean_reward) / self.n\n",
    "        curr_context_rewards[selected_arm_idx] = curr_context_rewards[selected_arm_idx] + (reward - curr_context_rewards[selected_arm_idx]) / self.context_n[context][selected_arm_idx]\n",
    "    \n",
    "    def get_reward(self, arm, context):\n",
    "        '''\n",
    "        Find expected reward for chosen arm in context\n",
    "        TODO: Replace with actual prediction models\n",
    "        '''\n",
    "        yds_gained = np.random.normal()\n",
    "        touchdown_pct = np.random.normal()\n",
    "        first_down_pct = np.random.normal()\n",
    "        \n",
    "        return yds_gained + touchdown_pct + first_down_pct\n",
    "    \n",
    "    def train(self, df): \n",
    "        \n",
    "        #Iterate over dataframe\n",
    "        for index, row in df.iterrows(): \n",
    "            \n",
    "            #Pull context\n",
    "            context_key = str(row['qtr']) + \"_\" + str(row['down']) + \"_\" + str(row['ydstogo_binned'])\n",
    "            \n",
    "            #Initialize rewards if this is new context\n",
    "            if context_key not in self.context_rewards.keys(): \n",
    "                self.context_rewards[context_key] = np.zeros(len(self.arms))\n",
    "                self.context_n[context_key] = np.zeros(len(self.arms))\n",
    "            \n",
    "            #Update rewards\n",
    "            self.pull(context_key)\n",
    "\n",
    "    def predict(self, df): \n",
    "        '''\n",
    "        Predict play for each context based on max reward\n",
    "        '''\n",
    "        predictions = []\n",
    "        \n",
    "        #Iterate over dataframe\n",
    "        for index, row in df.iterrows(): \n",
    "\n",
    "            #Pull context\n",
    "            context_key = str(row['qtr']) + \"_\" + str(row['down']) + \"_\" + str(row['ydstogo_binned'])\n",
    "            \n",
    "            #Pull relevant rewards vector\n",
    "            rewards = self.context_rewards[context_key]\n",
    "            #find highest rewards\n",
    "            max_idx = np.argmax(rewards)\n",
    "            #Select associated arm with highest rewards\n",
    "            arm = self.arms[max_idx] \n",
    "            #Add to predictions\n",
    "            predictions.append(arm)\n",
    "            \n",
    "            if row.PlayType_normalized == arm:\n",
    "                self.match_count += 1\n",
    "                if row.success: \n",
    "                    self.success_count += 1\n",
    " \n",
    "        return predictions\n",
    "\n",
    "    def get_evaluation_metrics(self):\n",
    "        return self.match_count, self.success_count, self.success_count / self.match_count\n",
    "    "
   ]
  },
  {
   "cell_type": "code",
   "execution_count": 39,
   "id": "e503c24e-8562-4cea-86d3-6ccd6899103e",
   "metadata": {},
   "outputs": [],
   "source": [
    "# bandit = ContextualBandit(['PASS', 'RUSH'], 0.1)"
   ]
  },
  {
   "cell_type": "code",
   "execution_count": 40,
   "id": "365e31b3-80b5-48b2-a1bc-094c24122d80",
   "metadata": {},
   "outputs": [],
   "source": [
    "# df_small = df.sample(10)\n",
    "# display(df_small)"
   ]
  },
  {
   "cell_type": "code",
   "execution_count": 41,
   "id": "c3a466c0-a5d0-47fe-8efe-462fdc821dda",
   "metadata": {},
   "outputs": [],
   "source": [
    "# bandit.train(df_small)"
   ]
  },
  {
   "cell_type": "code",
   "execution_count": 42,
   "id": "6da9e71a-2384-4e2f-9601-c82eaf147c93",
   "metadata": {},
   "outputs": [],
   "source": [
    "# print(bandit.context_rewards)\n",
    "# print(\"==========\")\n",
    "# print(bandit.context_n)"
   ]
  },
  {
   "cell_type": "code",
   "execution_count": 49,
   "id": "f14d0707-9057-4c31-94d5-80e45dfd1c5a",
   "metadata": {},
   "outputs": [],
   "source": [
    "def define_successful_play(row): \n",
    "    if row.yards_gained > 3 or row.touchdown or row.first_down:\n",
    "        return 1\n",
    "    else:\n",
    "        return 0\n",
    "    \n",
    "df['success'] = df.apply(define_successful_play, axis=1)"
   ]
  },
  {
   "cell_type": "code",
   "execution_count": 50,
   "id": "8589d772-911d-4862-890a-899bff662f5c",
   "metadata": {},
   "outputs": [],
   "source": [
    "train_df, test_df = train_test_split(df, test_size=.20)"
   ]
  },
  {
   "cell_type": "code",
   "execution_count": 51,
   "id": "fa8d3a27-ca14-4aff-8b2e-bce064b43e4d",
   "metadata": {},
   "outputs": [
    {
     "name": "stdout",
     "output_type": "stream",
     "text": [
      "0.003251307565911111\n"
     ]
    }
   ],
   "source": [
    "bandit = ContextualBandit(['PASS', 'RUSH'], 0.1)\n",
    "bandit.train(train_df)\n",
    "\n",
    "# print(bandit.context_rewards)\n",
    "# print(\"==========\")\n",
    "# print(bandit.context_n)\n",
    "# print(\"==========\")\n",
    "print(bandit.mean_reward)"
   ]
  },
  {
   "cell_type": "code",
   "execution_count": 52,
   "id": "d434e4bf-2bd0-4d8b-b721-c8c56fe648ca",
   "metadata": {},
   "outputs": [],
   "source": [
    "predictions = bandit.predict(test_df)"
   ]
  },
  {
   "cell_type": "code",
   "execution_count": 53,
   "id": "39df2049-8b86-40d2-9162-c3ca601f26ef",
   "metadata": {},
   "outputs": [
    {
     "name": "stdout",
     "output_type": "stream",
     "text": [
      "(40900, 17957, 0.43904645476772614)\n"
     ]
    }
   ],
   "source": [
    "print(bandit.get_evaluation_metrics())"
   ]
  },
  {
   "cell_type": "markdown",
   "id": "12e6ed4e-0de0-4f97-a9d4-eb78b29d2934",
   "metadata": {},
   "source": [
    "# Next Steps\n",
    "\n",
    "* Evaluation of bandit\n",
    "* Move context pulling to helper function"
   ]
  }
 ],
 "metadata": {
  "kernelspec": {
   "display_name": "default:Python",
   "language": "python",
   "name": "conda-env-default-py"
  },
  "language_info": {
   "codemirror_mode": {
    "name": "ipython",
    "version": 3
   },
   "file_extension": ".py",
   "mimetype": "text/x-python",
   "name": "python",
   "nbconvert_exporter": "python",
   "pygments_lexer": "ipython3",
   "version": "3.9.13"
  }
 },
 "nbformat": 4,
 "nbformat_minor": 5
}
